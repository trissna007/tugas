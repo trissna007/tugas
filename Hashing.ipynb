{
 "cells": [
  {
   "cell_type": "markdown",
   "metadata": {},
   "source": [
    "HASHING\n",
    "\n",
    "Hashing adalah proses pengindeksan dan pengembalian elemen dalam struktur data untuk menyajikan langkah yang lebih cepat dalam pencarian elemen menggunakan hash key. Ketika dua item terindeks ke dalam slot yang sama, harus dilakukan metode sistematis untuk menempatkan item kedua dalam tabel slot, hal ini disebut sebagai collision. Dengan begitu, terdapat dua penyelesaian yaitu menggunakan open addressing dan close addressing\n",
    "\n",
    "OPEN ADDRESSING\n",
    "\n",
    "Cara kerjanya adalah mencoba mencari slot lain yang terbuka atau alamat di dalam tabel hash. Open addressing terbagi menjadi dua cara yaitu Linear Probing dan Quadratic Probing\n",
    "\n",
    "Linear Probing cara kerjanya adalah mencari dengan sequential, slot demi slot, hingga menemukan posisi yang masih kosong."
   ]
  },
  {
   "cell_type": "code",
   "execution_count": 1,
   "metadata": {},
   "outputs": [
    {
     "name": "stdout",
     "output_type": "stream",
     "text": [
      "masukkan panjang index= 5\n",
      "masukkan angka yang akan dicari= 6\n",
      "[None, 6, None, None, None]\n"
     ]
    }
   ],
   "source": [
    "n=int(input(\"masukkan panjang index= \"))\n",
    "table = [None] * n\n",
    "def hash(x):\n",
    "  return x % n\n",
    "def insert(table,key,value):\n",
    "  index = hash(key)\n",
    "  if table[index] == None:\n",
    "    table[index] = value\n",
    "  else:\n",
    "    collision=index\n",
    "    found = False\n",
    "    i=1\n",
    "    ind = collision+1\n",
    "\n",
    "    if ind > len(table)-1:\n",
    "        ind = 0\n",
    "\n",
    "    while (ind<=len(table)-1) and not(found):\n",
    "      if table[ind]== None:\n",
    "        found=True\n",
    "        table[ind]=value\n",
    "        ind = (collision+1) % n\n",
    "      i=i+1\n",
    "search=int(input(\"masukkan angka yang akan dicari= \"))\n",
    "insert(table,search,search)\n",
    "print(table)"
   ]
  },
  {
   "cell_type": "markdown",
   "metadata": {},
   "source": [
    "Quadratic Probing berarti semisal hash pertama bernilai h, maka nilai suksesif adalah h+1, h+4, h+9, dan seterusnya."
   ]
  },
  {
   "cell_type": "code",
   "execution_count": null,
   "metadata": {},
   "outputs": [],
   "source": [
    "n=int(input(\"masukkan jumlah slot= \"))\n",
    "table = [None] * n\n",
    "def hash(x):\n",
    "  return x % n\n",
    "\n",
    "\n",
    "def insert(table,key,value):\n",
    "  index = hash(key)\n",
    "  if table[index] == None:\n",
    "    table[index] = value\n",
    "  else:\n",
    "    collision=index\n",
    "    found = False\n",
    "    i=1\n",
    "    ind = collision+1\n",
    "\n",
    "    if ind > len(table)-1:\n",
    "        ind = 0\n",
    "\n",
    "    while (ind<=len(table)-1) and not(found):\n",
    "      if table[ind]== None:\n",
    "        found=True\n",
    "        table[ind]=value\n",
    "        ind = (collision+(i*i)) % n\n",
    "      i=i+1\n",
    "      \n",
    "s=int(input(\"masukkan angka yang dicari= \"))\n",
    "insert(table,s,s)\n",
    "print(table)"
   ]
  },
  {
   "cell_type": "markdown",
   "metadata": {},
   "source": [
    "CLOSE ADDRESSING\n",
    "\n",
    "Mengizinkan banyak item untuk ada dalam lokasi yang sama dalam tabel hash. Ketika terjadi collision, item masih ditempatkan dalam slot yang sama di dalam tabel hash, bisa juga disebut sebagai chaining."
   ]
  },
  {
   "cell_type": "code",
   "execution_count": null,
   "metadata": {},
   "outputs": [],
   "source": [
    "n=int(input(\"masukkan jumlah slot= \"))\n",
    "table = [ [] for _ in range(n)]\n",
    "def hash(x):\n",
    "  return x % n\n",
    "def insert(table,key,value):\n",
    "  table[hash(key)].append(value)\n",
    "s=int(input(\"masukkan angka yang dicari= \"))\n",
    "insert(table,s,s)\n",
    "print(table)"
   ]
  }
 ],
 "metadata": {
  "kernelspec": {
   "display_name": "Python 2",
   "language": "python",
   "name": "python2"
  },
  "language_info": {
   "codemirror_mode": {
    "name": "ipython",
    "version": 2
   },
   "file_extension": ".py",
   "mimetype": "text/x-python",
   "name": "python",
   "nbconvert_exporter": "python",
   "pygments_lexer": "ipython2",
   "version": "2.7.15"
  }
 },
 "nbformat": 4,
 "nbformat_minor": 2
}
